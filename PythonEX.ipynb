{
 "cells": [
  {
   "cell_type": "code",
   "execution_count": null,
   "metadata": {},
   "outputs": [],
   "source": []
  },
  {
   "cell_type": "code",
   "execution_count": null,
   "metadata": {},
   "outputs": [],
   "source": [
    "def solution(k, m, score):\n",
    "    answer = 5\n",
    "    \n",
    "    # 정렬(내림차순)\n",
    "    score.sort(reverse=True)\n",
    "    \n",
    "    \n",
    "    # m = 3\n",
    "    # [4, 1, 2, 2, 4, 4, 4, 4, 1, 2, 4, 2]\n",
    "    # score[i:i+m]\n",
    "    # score[0:0+3] = [4, 4, (4),\n",
    "    # score[3:3+3] = 4, 4, (4),\n",
    "    # score[6:6+3] = 2, 2, (2),\n",
    "    # score[9:9+3] = 2, 1, (1)]\n",
    "    # m 단위별로 잘라서\n",
    "    for i in range(0, len(score), m):\n",
    "        #마지막 위치값의 *m\n",
    "        # 최저 금액기준으로 금액을 측정후\n",
    "        # 누적하여 합\n",
    "        if i+m-1 < len(score):\n",
    "            answer += score[i+m-1] * m\n",
    "    \n",
    "    \n",
    "    return answer"
   ]
  },
  {
   "cell_type": "code",
   "execution_count": null,
   "metadata": {},
   "outputs": [],
   "source": []
  },
  {
   "cell_type": "code",
   "execution_count": null,
   "metadata": {},
   "outputs": [],
   "source": []
  },
  {
   "cell_type": "code",
   "execution_count": null,
   "metadata": {},
   "outputs": [],
   "source": [
    "def solutiuon(book_time):\n",
    "    answer=0\n",
    "    def ttm(time):\n",
    "        hm = time.split(':') # 데이터를 : 기준으로 분리\n",
    "        h = int(hm[0]) #정수로 변경\n",
    "        m = int(hm[1])\n",
    "        \n",
    "        return h * 60 + m #총 분으로 return\n",
    "    rooms = []#각 방들의 예약시간 저장\n",
    "    \n",
    "   \n",
    "    #시간을 분단위로 변경\n",
    "    #start = i[0]\n",
    "    #end = i[1]\n",
    "    for start, end in book_time:\n",
    "        rooms.append([ttm(start),1]) #시작시간 표시 1\n",
    "        rooms.append([ttm(end)+10, -1]) #끝나느 시간을 +10분 적용\n",
    "    \n",
    "    #시작, 끝 표시\n",
    "    \n",
    "    #시간순서대로 정렬\n",
    "    rooms.sort()\n",
    "    \n",
    "    roomscnt = 0\n",
    "    \n",
    "    for time, io in rooms:\n",
    "        # if io == 1:\n",
    "        #     roomscnt += 1\n",
    "        # else:\n",
    "        #     roomscnt -= 1\n",
    "        roomscnt += io\n",
    "        answer = max(answer, roomscnt)\n",
    "        \n",
    "        \n",
    "    #예약된 순서대로 체크\n",
    "    \n",
    "    return answer\n",
    "    \n",
    "    #가장 방을 많이 사용한 순간을 저장"
   ]
  },
  {
   "cell_type": "code",
   "execution_count": null,
   "metadata": {},
   "outputs": [],
   "source": [
    "def solution(angle):\n",
    "    if angle < 90:\n",
    "        answer = 1\n",
    "    elif angle == 90:\n",
    "        answer = 2\n",
    "    elif angle < 180:\n",
    "        answer = 3    \n",
    "    elif angle <= 180 :\n",
    "        answer = 4\n",
    "    elif angle < 360 :\n",
    "        answer = \"over ex\"    \n",
    "    else:\n",
    "        answer = \"error\"\n",
    "    return answer\n",
    "\n",
    "# Test the function\n",
    "angle = 400\n",
    "print(solution(angle))"
   ]
  },
  {
   "cell_type": "code",
   "execution_count": null,
   "metadata": {},
   "outputs": [],
   "source": [
    "message = \"hello\"\n",
    "\n",
    "length = len(message)\n",
    "\n",
    "print(length)"
   ]
  },
  {
   "cell_type": "code",
   "execution_count": null,
   "metadata": {},
   "outputs": [],
   "source": [
    "# 정수가 담긴 리스트 num_list가 주어질 때, num_list의 원소 중 짝수와 홀수의 개수를 담은 배열을 return 하도록 solution 함수를 완성해보세요.\n",
    "# num_list\tresult\n",
    "# [1, 2, 3, 4, 5]\t[2, 3]\n",
    "\n",
    "num_list =[1,2,3,4,5]\n",
    "\n",
    "def solution(num_list):\n",
    "    a = 0\n",
    "    b = 0\n",
    "\n",
    "    for i in num_list :\n",
    "        if i % 2 == 0 :\n",
    "            a += 1\n",
    "        else :\n",
    "            b += 1          \n",
    "                \n",
    "    return a, b \n",
    "\n",
    "a, b =solution(num_list)\n",
    "\n",
    "print (a, b)\n",
    "\n"
   ]
  },
  {
   "cell_type": "code",
   "execution_count": null,
   "metadata": {},
   "outputs": [],
   "source": [
    "# 문제 설명\n",
    "# 문자열 my_string이 매개변수로 주어집니다. \n",
    "# my_string을 거꾸로 뒤집은 문자열을 return하도록 solution 함수를 완성해주세요.\n",
    "\n",
    "def solution(my_string):\n",
    "    answer = my_string[::-1] \n",
    "    # [::] 슬라이싱\n",
    "    return answer\n"
   ]
  },
  {
   "cell_type": "code",
   "execution_count": null,
   "metadata": {},
   "outputs": [],
   "source": [
    "# 문제 설명\n",
    "# 정수 n이 매개변수로 주어질 때, n 이하의 홀수가 오름차순으로 담긴 배열을 return하도록 solution 함수를 완성해주세요.\n",
    "\n",
    "# 제한사항\n",
    "# 1 ≤ n ≤ 100\n",
    "# 입출력 예\n",
    "# n\tresult\n",
    "# 10\t[1, 3, 5, 7, 9]\n",
    "# 15\t[1, 3, 5, 7, 9, 11, 13, 15]\n",
    "# 입출력 예 설명\n",
    "# 입출력 #1\n",
    "\n",
    "# 10 이하의 홀수가 담긴 배열 [1, 3, 5, 7, 9]를 return합니다.\n",
    "# 입출력 #1\n",
    "\n",
    "# 15 이하의 홀수가 담긴 배열 [1, 3, 5, 7, 9, 11, 13, 15]를 return합니다.\n",
    "\n",
    "n = 10\n",
    "\n",
    "def solution(n):\n",
    "    answer = [] \n",
    "    for i in range (0,n+1) :\n",
    "        if i % 2 == 1 :\n",
    "            answer.append(i)  # 홀수일 경우 answer를 1 증가\n",
    "\n",
    "    return answer\n",
    "\n",
    "answer = solution(n)\n",
    "\n",
    "print(answer)\n"
   ]
  },
  {
   "cell_type": "code",
   "execution_count": null,
   "metadata": {},
   "outputs": [],
   "source": [
    "# 머쓱이네 양꼬치 가게는 10인분을 먹으면 음료수 하나를 서비스로 줍니다. \n",
    "# 양꼬치는 1인분에 12,000원, 음료수는 2,000원입니다. \n",
    "# 정수 n과 k가 매개변수로 주어졌을 때, \n",
    "# 양꼬치 n인분과 음료수 k개를 먹었다면 총얼마를 지불해야 하는지 return 하도록 solution 함수를 완성해보세요.\n",
    "\n",
    "n = 10\n",
    "k = 3\n",
    "def solution(n, k):\n",
    "    lamb = 12000\n",
    "    bev = 2000\n",
    "    free_bev = n // 10\n",
    "    total_bev = k - free_bev\n",
    "\n",
    "\n",
    "    \n",
    "    answer = (lamb * n) + (bev * total_bev)\n",
    "    return answer\n",
    "\n",
    "answer = solution(n, k )\n",
    "\n",
    "print (answer)"
   ]
  },
  {
   "cell_type": "code",
   "execution_count": null,
   "metadata": {},
   "outputs": [],
   "source": [
    "# 문자열 str1, str2가 매개변수로 주어집니다. \n",
    "# str1 안에 str2가 있다면 1을 없다면 2를 return하도록 solution 함수를 완성해주세요.\n",
    "\n",
    "\n",
    "str1 = \"asdf\"\n",
    "str2 = \"qwer\"\n",
    "\n",
    "def solution(str1, str2):\n",
    "    return 1 if str2 in str1 else 2\n",
    "\n",
    "# solution 함수를 호출하고 결과를 출력\n",
    "result = solution(str1, str2)\n",
    "print(1)\n",
    "\n"
   ]
  },
  {
   "cell_type": "code",
   "execution_count": null,
   "metadata": {},
   "outputs": [],
   "source": [
    "# 머쓱이네 피자가게는 피자를 일곱 조각으로 잘라 줍니다. \n",
    "# 피자를 나눠먹을 사람의 수 n이 주어질 때, \n",
    "# 모든 사람이 피자를 한 조각 이상 먹기 위해 필요한 피자의 수를 return 하는 solution 함수를 완성해보세요.\n",
    "\n",
    "\n",
    "n= 15\n",
    "\n",
    "\n",
    "def solution(n):\n",
    "    answer = 0\n",
    "    if n % 7 == 0 :\n",
    "        answer = n / 7\n",
    "    else : answer = int(n / 7) + 1\n",
    "\n",
    "    return answer\n",
    "\n",
    "answer = solution(n)\n",
    "\n",
    "print(answer)"
   ]
  },
  {
   "cell_type": "code",
   "execution_count": null,
   "metadata": {},
   "outputs": [],
   "source": [
    "# 머쓱이네 옷가게는 10만 원 이상 사면 5%, 30만 원 이상 사면 10%, 50만 원 이상 사면 20%를 할인해줍니다.\n",
    "# 구매한 옷의 가격 price가 주어질 때, 지불해야 할 금액을 return 하도록 solution 함수를 완성해보세요.\n",
    "\n",
    "price = 150000\n",
    "\n",
    "def solution(price):\n",
    "    if price >= 500000:\n",
    "        price = price * 0.8\n",
    "    elif price >= 300000:\n",
    "        price = price * 0.9\n",
    "    elif price >= 100000:\n",
    "        price = price * 0.95\n",
    "    else: price = int(price)\n",
    "    \n",
    "    return price\n",
    "\n",
    "price = solution(price)\n",
    "\n",
    "print (price)"
   ]
  },
  {
   "cell_type": "code",
   "execution_count": null,
   "metadata": {},
   "outputs": [],
   "source": [
    "# 머쓱이는 추운 날에도 아이스 아메리카노만 마십니다. \n",
    "# 아이스 아메리카노는 한잔에 5,500원입니다. \n",
    "# 머쓱이가 가지고 있는 돈 money가 매개변수로 주어질 때, \n",
    "# 머쓱이가 최대로 마실 수 있는 아메리카노의 잔 수와 남는 돈을 순서대로 담은 배열을 return 하도록 solution 함수를 완성해보세요.\n",
    "\n",
    "money = 15000\n",
    "\n",
    "def solution(money):\n",
    "    cups = money // 5500\n",
    "    remain = money % 5500\n",
    "    answer = f\"{cups}잔, {remain}원\"\n",
    "    return answer\n",
    "\n",
    "answer = solution(money)\n",
    "\n",
    "\n",
    "print(answer)\n"
   ]
  },
  {
   "cell_type": "code",
   "execution_count": null,
   "metadata": {},
   "outputs": [],
   "source": [
    "# 정수 배열 numbers와 정수 num1, num2가 매개변수로 주어질 때, \n",
    "# numbers의 num1번 째 인덱스부터 num2번째 인덱스까지 자른 정수 배열을 return 하도록 solution 함수를 완성해보세요.\n",
    "\n",
    "numbers = [1,2,3,4,5]\n",
    "num1 = 1\n",
    "num2 = 3\n",
    "def solution(numbers, num1, num2):\n",
    "    answer = numbers[num1:num2+1]\n",
    "    return answer\n",
    "\n",
    "index = solution(numbers, num1, num2)\n",
    "\n",
    "print(index)"
   ]
  },
  {
   "cell_type": "code",
   "execution_count": null,
   "metadata": {},
   "outputs": [],
   "source": [
    "# 문자열 my_string과 정수 n이 매개변수로 주어질 때, \n",
    "# my_string에 들어있는 각 문자를 n만큼 반복한 문자열을 return 하도록 solution 함수를 완성해보세요.\n",
    "\n",
    "my_string = \"hello\"\n",
    "n = 3\n",
    "answer = \"\"\n",
    "for w in my_string :\n",
    "    answer += n * w\n",
    "\n",
    "print(answer)"
   ]
  },
  {
   "cell_type": "code",
   "execution_count": null,
   "metadata": {},
   "outputs": [],
   "source": [
    "# 개미 군단이 사냥을 나가려고 합니다. 개미군단은 사냥감의 체력에 딱 맞는 병력을 데리고 나가려고 합니다. \n",
    "# 장군개미는 5의 공격력을, 병정개미는 3의 공격력을 일개미는 1의 공격력을 가지고 있습니다. \n",
    "# 예를 들어 체력 23의 여치를 사냥하려고 할 때, 일개미 23마리를 데리고 가도 되지만, \n",
    "# 장군개미 네 마리와 병정개미 한 마리를 데리고 간다면 더 적은 병력으로 사냥할 수 있습니다. \n",
    "# 사냥감의 체력 hp가 매개변수로 주어질 때, 사냥감의 체력에 딱 맞게 최소한의 병력을 구성하려면 몇 마리의 개미가 필요한지를 return하도록 solution 함수를 완성해주세요.\n",
    "\n",
    "hp =999\n",
    "\n",
    "def solution(hp):\n",
    "    ga = 5\n",
    "    sa = 3\n",
    "    la = 1\n",
    "    \n",
    "    gacnt = hp // ga\n",
    "    hp %= ga\n",
    "    \n",
    "    sacnt = hp // sa\n",
    "    hp %= sa\n",
    "    \n",
    "    lacnt = hp / la\n",
    "    \n",
    "    answer =gacnt + sacnt + lacnt\n",
    "    \n",
    "    return gacnt + sacnt + lacnt\n",
    "\n",
    "\n",
    "answer = solution(hp)\n",
    "print (answer)"
   ]
  },
  {
   "cell_type": "code",
   "execution_count": null,
   "metadata": {},
   "outputs": [],
   "source": [
    "# 영어에선 a, e, i, o, u 다섯 가지 알파벳을 모음으로 분류합니다. \n",
    "# 문자열 my_string이 매개변수로 주어질 때 모음을 제거한 문자열을 return하도록 solution 함수를 완성해주세요.\n",
    "\n",
    "my_string = \"nice to meet you\"\n",
    "\n",
    "\n",
    "def solution(my_string):\n",
    "    aeious = 'aeiou'\n",
    "    for aeiou in aeious :\n",
    "        my_string = my_string.replace(aeiou,\"\")\n",
    "    return my_string\n",
    "\n",
    "\n",
    "answer = solution(my_string)\n",
    "\n",
    "print(answer)"
   ]
  },
  {
   "cell_type": "code",
   "execution_count": null,
   "metadata": {},
   "outputs": [],
   "source": [
    "# 문자열 my_string과 문자 letter이 매개변수로 주어집니다. my_string에서 letter를 제거한 문자열을 return하도록 solution 함수를 완성해주세요.\n",
    "\n",
    "my_string = \"abcdef\"\n",
    "letter = \"f\"\n",
    "\n",
    "def solution(my_string, letter):\n",
    "    answer = my_string.replace(letter,\"\")\n",
    "    return answer\n",
    "\n",
    "\n",
    "answer = solution(my_string, letter)\n",
    "\n",
    "print(answer)\n",
    "    \n"
   ]
  },
  {
   "cell_type": "code",
   "execution_count": null,
   "metadata": {},
   "outputs": [],
   "source": [
    "# 두 배열이 얼마나 유사한지 확인해보려고 합니다. \n",
    "# 문자열 배열 s1과 s2가 주어질 때 같은 원소의 개수를 return하도록 solution 함수를 완성해주세요\n",
    "\n",
    "s1 = \"a\",\"b\",\"c\"\n",
    "s2 = \"com\", \"b\", \"d\", \"p\", \"c\"\n",
    "\n",
    "def solution(s1, s2):\n",
    "    answer = 0\n",
    "    for i in s1 :\n",
    "        for j in s2 :\n",
    "            if i == j :\n",
    "                answer += 1\n",
    "    return answer\n",
    "\n",
    "answer = solution(s1, s2)\n",
    "\n",
    "print(answer)"
   ]
  },
  {
   "cell_type": "code",
   "execution_count": null,
   "metadata": {},
   "outputs": [],
   "source": [
    "# 사분면은 한 평면을 x축과 y축을 기준으로 나눈 네 부분입니다. 사분면은 아래와 같이 1부터 4까지 번호를매깁니다.\n",
    "\n",
    "dot = [-3,3]\n",
    "\n",
    "def solution(dot):\n",
    "    if (dot[0] > 0) & (dot [1] > 0)  :\n",
    "        answer = 1\n",
    "    elif (dot[0] < 0) & (dot [1] > 0) :\n",
    "        answer = 2\n",
    "    elif (dot[0] < 0) & (dot [1] < 0) :\n",
    "        answer = 3\n",
    "    else : \n",
    "        answer = 4\n",
    "        \n",
    "    return answer\n",
    "\n",
    "answer = solution(dot)\n",
    "print (answer)"
   ]
  },
  {
   "cell_type": "code",
   "execution_count": null,
   "metadata": {},
   "outputs": [],
   "source": [
    "# 문자열 배열 strlist가 매개변수로 주어집니다. strlist 각 원소의 길이를 담은 배열을 retrun하도록 solution 함수를 완성해주세요\n",
    "\n",
    "strlist = [\"We\", \"are\", \"the\", \"world!\"]\n",
    "\n",
    "def solution(strlist):\n",
    "    answer = []\n",
    "    for i in strlist :\n",
    "        answer.append(len(i))\n",
    "    return answer\n",
    "\n",
    "answer = solution(strlist)\n",
    "print(answer)"
   ]
  },
  {
   "cell_type": "code",
   "execution_count": null,
   "metadata": {},
   "outputs": [],
   "source": [
    "# 문제 설명\n",
    "# 군 전략가 머쓱이는 전쟁 중 적군이 다음과 같은 암호 체계를 사용한다는 것을 알아냈습니다.\n",
    "\n",
    "# 암호화된 문자열 cipher를 주고받습니다.\n",
    "# 그 문자열에서 code의 배수 번째 글자만 진짜 암호입니다.\n",
    "\n",
    "cipher = \"dfjardstddetckdaccccdegk\"\n",
    "code = 4\n",
    "\n",
    "def solution(cipher, code):\n",
    "    answer = cipher[code-1 :: code]\n",
    "    return answer\n",
    "\n",
    "answer = solution(cipher, code)\n",
    "\n",
    "print(answer)"
   ]
  },
  {
   "cell_type": "code",
   "execution_count": null,
   "metadata": {},
   "outputs": [],
   "source": [
    "# 문자열 my_string이 매개변수로 주어질 때, \n",
    "# 대문자는 소문자로 소문자는 대문자로 변환한 문자열을 return하도록 solution 함수를 완성해주세요.\n",
    "my_string = \"cccCCC\"\n",
    "\n",
    "def solution(my_string):\n",
    "    answer = (my_string.swapcase())\n",
    "    return answer\n",
    "\n",
    "answer = solution(my_string)\n",
    "\n",
    "print(answer)"
   ]
  },
  {
   "cell_type": "code",
   "execution_count": null,
   "metadata": {},
   "outputs": [],
   "source": [
    "# 문제 설명 어떤 자연수를 제곱했을 때 나오는 정수를 제곱수라고 합니다. \n",
    "# 정수 n이 매개변수로 주어질 때, n이 제곱수라면 1을 아니라면 2를 return하도록 solution 함수를 완성해주세요.\n",
    "\n",
    "n = 144\n",
    "\n",
    "def solution(n):\n",
    "    answer = 0\n",
    "    if (n ** 0.5 ) % 1 == 0 :\n",
    "        answer = 1\n",
    "    else :\n",
    "        answer = 2\n",
    "    return answer\n",
    "\n",
    "answer = solution(n)\n",
    "\n",
    "print(answer)"
   ]
  },
  {
   "cell_type": "code",
   "execution_count": null,
   "metadata": {},
   "outputs": [],
   "source": [
    "# 문제 설명\n",
    "# 정수 배열 array가 매개변수로 주어질 때, 가장 큰 수와 그 수의 인덱스를 담은 배열을 return 하도록 solution 함수를 완성해보세요.\n",
    "array = [9, 10, 11, 8]\n",
    "\n",
    "def solution(array):\n",
    "    answer = [max(array), array.index(max(array))]\n",
    "    \n",
    "    return answer\n",
    "\n",
    "\n",
    "answer = solution(array)\n",
    "\n",
    "print(answer)\n"
   ]
  },
  {
   "cell_type": "code",
   "execution_count": null,
   "metadata": {},
   "outputs": [],
   "source": [
    "# 문제 설명\n",
    "# 정수 n과 정수 배열 numlist가 매개변수로 주어질 때, \n",
    "# numlist에서 n의 배수가 아닌 수들을 제거한 배열을 return하도록 solution 함수를 완성해주세요.\n",
    "\n",
    "n = 3\n",
    "numlist = [4, 5, 6, 7, 8, 9, 10, 11, 12]\n",
    "\n",
    "\n",
    "def solution(n, numlist):\n",
    "    answer = []\n",
    "    for i in numlist :\n",
    "        if i % n == 0 :\n",
    "            answer += [i]\n",
    "    \n",
    "\n",
    "    return answer\n",
    "\n",
    "answer = solution(n, numlist)\n",
    "\n",
    "print(answer)"
   ]
  },
  {
   "cell_type": "code",
   "execution_count": null,
   "metadata": {},
   "outputs": [],
   "source": [
    "# 문제 설명\n",
    "# 가위는 2 바위는 0 보는 5로 표현합니다. \n",
    "# 가위 바위 보를 내는 순서대로 나타낸 문자열 rsp가 매개변수로 주어질 때, \n",
    "# rsp에 저장된 가위 바위 보를 모두 이기는 경우를 순서대로 나타낸 문자열을 return하도록 solution 함수를 완성해보세요.\n",
    "\n",
    "rsp = '205502'\n",
    "\n",
    "def solution(rsp):\n",
    "    answer = rsp.translate(str.maketrans('025', '502'))\n",
    "    return answer\n",
    "\n",
    "answer = solution(rsp)\n",
    "\n",
    "print(answer)"
   ]
  },
  {
   "cell_type": "code",
   "execution_count": null,
   "metadata": {},
   "outputs": [],
   "source": [
    "# 문제 설명\n",
    "# 정수 배열 numbers가 매개변수로 주어집니다. \n",
    "# numbers의 원소 중 두 개를 곱해 만들 수 있는 최댓값을 return하도록 solution 함수를 완성해주세요.\n",
    "\n",
    "numbers = [1, 2, -3, 4, -5]\n",
    "\n",
    "def solution(numbers):\n",
    "    numbers.sort(reverse=True)\n",
    "    return max(numbers[0] * numbers[1], numbers[-1] * numbers[-2])\n",
    "\n",
    "answer = solution(numbers)\n",
    "\n",
    "print(answer)"
   ]
  },
  {
   "cell_type": "code",
   "execution_count": null,
   "metadata": {},
   "outputs": [],
   "source": [
    "# 문제 설명\n",
    "# 머쓱이네 피자가게는 피자를 두 조각에서 열 조각까지 원하는 조각 수로 잘라줍니다. \n",
    "# 피자 조각 수 slice와 피자를 먹는 사람의 수 n이 매개변수로 주어질 때, \n",
    "# n명의 사람이 최소 한 조각 이상 피자를 먹으려면 최소 몇 판의 피자를 시켜야 하는지를 return 하도록 solution 함수를 완성해보세요.\n",
    "\n",
    "\n",
    "slice = 7\n",
    "n = 10\n",
    "\n",
    "def solution(slice, n):\n",
    "    answer = 0\n",
    "    if n % slice == 0 :\n",
    "        answer = int(n / slice)\n",
    "    else : answer = int(n / slice + 1)\n",
    "    return int(answer)\n",
    "\n",
    "\n",
    "answer = solution(slice, n)\n",
    "\n",
    "print(answer)"
   ]
  },
  {
   "cell_type": "code",
   "execution_count": null,
   "metadata": {},
   "outputs": [],
   "source": [
    "# 문제 설명\n",
    "# 머쓱이는 직육면체 모양의 상자를 하나 가지고 있는데 이 상자에 정육면체 모양의 주사위를 최대한 많이 채우고 싶습니다. \n",
    "# 상자의 가로, 세로, 높이가 저장되어있는 배열 box와 주사위 모서리의 길이 정수 n이 매개변수로 주어졌을 때, \n",
    "# 상자에 들어갈 수 있는 주사위의 최대 개수를 return 하도록 solution 함수를 완성해주세요.\n",
    "\n",
    "\n",
    "box = [10, 8, 6]\n",
    "n = 3\n",
    "\n",
    "\n",
    "def solution(box, n):\n",
    "    \n",
    "    a = box[0] // n\n",
    "    b = box[1] // n\n",
    "    c = box[2] // n\n",
    "    \n",
    "    answer = a * b * c\n",
    "    return answer\n",
    "\n",
    "\n",
    "answer = solution(box, n)\n",
    "\n",
    "print (answer)"
   ]
  },
  {
   "cell_type": "code",
   "execution_count": null,
   "metadata": {},
   "outputs": [],
   "source": [
    "# 문제 설명\n",
    "# 문자열 my_string이 매개변수로 주어질 때, \n",
    "# my_string 안에 있는 숫자만 골라 오름차순 정렬한 리스트를 return 하도록 solution 함수를 작성해보세요.\n",
    "\n",
    "\n",
    "my_string = \"hi12392\"\n",
    "\n",
    "def solution(my_string):\n",
    "    answer = []    \n",
    "    for i in my_string :\n",
    "        if i.isdigit() :\n",
    "            answer.append (int(i))\n",
    "            \n",
    "    answer.sort()        \n",
    "    return answer\n",
    "\n",
    "\n",
    "answer = solution (my_string)\n",
    "\n",
    "print(answer)"
   ]
  },
  {
   "cell_type": "code",
   "execution_count": null,
   "metadata": {},
   "outputs": [],
   "source": []
  },
  {
   "cell_type": "code",
   "execution_count": null,
   "metadata": {},
   "outputs": [],
   "source": [
    "# 문제 설명\n",
    "# \"*\"의 높이와 너비를 1이라고 했을 때, \"*\"을 이용해 직각 이등변 삼각형을 그리려고합니다. 정수 n 이 주어지면 높이와 너비가 n 인 직각 이등변 삼각형을 출력하도록 코드를 작성해보세요.\n",
    "\n",
    "for i in range(5):\n",
    "    print((i + 1) * '*')"
   ]
  },
  {
   "cell_type": "code",
   "execution_count": 1,
   "metadata": {},
   "outputs": [
    {
     "name": "stdout",
     "output_type": "stream",
     "text": [
      "I l veoyou\n"
     ]
    }
   ],
   "source": [
    "# 문자열 my_string과 정수 num1, num2가 매개변수로 주어질 때, \n",
    "# my_string에서 인덱스 num1과 인덱스 num2에 해당하는 문자를 바꾼 문자열을 return 하도록 solution 함수를 완성해보세요.\n",
    "\n",
    "\n",
    "my_string = \"I love you\"\n",
    "num1 = 3\n",
    "num2 = 6\n",
    "\n",
    "\n",
    "\n",
    "\n",
    "def solution(my_string, num1, num2):\n",
    "    \n",
    "    s = list(my_string)\n",
    "    s[num1], s[num2] = s[num2], s[num1]\n",
    "    \n",
    "    answer = ''.join(s)\n",
    "    return answer\n",
    "\n",
    "\n",
    "answer= solution(my_string, num1, num2)\n",
    "\n",
    "print(answer)"
   ]
  },
  {
   "cell_type": "code",
   "execution_count": 2,
   "metadata": {},
   "outputs": [
    {
     "name": "stdout",
     "output_type": "stream",
     "text": [
      "10\n"
     ]
    }
   ],
   "source": [
    "# 정수 n이 매개변수로 주어질 때 n의 각 자리 숫자의 합을 return하도록 solution 함수를 완성해주세요\n",
    " \n",
    "n = 1234\n",
    "\n",
    "\n",
    "def solution(n):\n",
    "    answer = 0\n",
    "    str_n = str(n)\n",
    "    for i in str_n :\n",
    "        answer += int(i)\n",
    "    return answer\n",
    "\n",
    "answer = solution(n)\n",
    "print(answer)"
   ]
  },
  {
   "cell_type": "code",
   "execution_count": 29,
   "metadata": {},
   "outputs": [
    {
     "name": "stdout",
     "output_type": "stream",
     "text": [
      "[1, 2]\n"
     ]
    }
   ],
   "source": [
    "sides = [1,2,3]\n",
    "answer = 0\n",
    "\n",
    "sides.sort()\n",
    "\n",
    "if sides[-1] < sides[0] + sides[1] : \n",
    "    answer = 0\n",
    "    \n",
    "else: \n",
    "    answer = 1\n",
    "\n",
    "\n",
    "    \n",
    "    \n",
    "\n",
    "print(sides[0:-1])"
   ]
  },
  {
   "cell_type": "code",
   "execution_count": 31,
   "metadata": {},
   "outputs": [
    {
     "name": "stdout",
     "output_type": "stream",
     "text": [
      "1\n"
     ]
    }
   ],
   "source": [
    "# 문제 설명\n",
    "# 선분 세 개로 삼각형을 만들기 위해서는 다음과 같은 조건을 만족해야 합니다.\n",
    "\n",
    "# 가장 긴 변의 길이는 다른 두 변의 길이의 합보다 작아야 합니다.\n",
    "# 삼각형의 세 변의 길이가 담긴 배열 sides이 매개변수로 주어집니다. \n",
    "# 세 변으로 삼각형을 만들 수 있다면 1, 만들 수 없다면 2를 return하도록 solution 함수를 완성해주세요.\n",
    "\n",
    "sides = [199, 72, 222]\n",
    "\n",
    "def solution(sides):\n",
    "    answer =  0    \n",
    "    sides.sort()\n",
    "\n",
    "    if sides[-1] < sides[0] + sides[1] : \n",
    "        answer = 1\n",
    "    \n",
    "    else:\n",
    "        answer = 2\n",
    "        \n",
    "    return answer\n",
    "\n",
    "\n",
    "answer = solution(sides)\n",
    "\n",
    "print (answer)"
   ]
  },
  {
   "cell_type": "code",
   "execution_count": 32,
   "metadata": {},
   "outputs": [
    {
     "name": "stdout",
     "output_type": "stream",
     "text": [
      "229376\n"
     ]
    }
   ],
   "source": [
    "# 문제 설명\n",
    "# 어떤 세균은 1시간에 두배만큼 증식한다고 합니다.\n",
    "# 처음 세균의 마리수 n과 경과한 시간 t가 매개변수로 주어질 때 t시간 후 세균의 수를 return하도록 solution 함수를 완성해주세요.\n",
    "\n",
    "n= 7\n",
    "t = 15 \n",
    "\n",
    "def solution(n, t):\n",
    "    answer = 2 ** t * n\n",
    "    return answer\n",
    "\n",
    "answer = solution(n,t)\n",
    "\n",
    "print (answer)\n"
   ]
  },
  {
   "cell_type": "code",
   "execution_count": 3,
   "metadata": {},
   "outputs": [
    {
     "name": "stdout",
     "output_type": "stream",
     "text": [
      "[455, 6, 4, -1, 45, 6, 4]\n"
     ]
    },
    {
     "ename": "",
     "evalue": "",
     "output_type": "error",
     "traceback": [
      "\u001b[1;31mThe Kernel crashed while executing code in the current cell or a previous cell. \n",
      "\u001b[1;31mPlease review the code in the cell(s) to identify a possible cause of the failure. \n",
      "\u001b[1;31mClick <a href='https://aka.ms/vscodeJupyterKernelCrash'>here</a> for more info. \n",
      "\u001b[1;31mView Jupyter <a href='command:jupyter.viewOutput'>log</a> for further details."
     ]
    }
   ],
   "source": [
    "# 정수가 담긴 배열 numbers와 문자열 direction가 매개변수로 주어집니다. \n",
    "# 배열 numbers의 원소를 direction방향으로 한 칸씩 회전시킨 배열을 return하도록 solution 함수를 완성해주세요.\n",
    "\n",
    "\n",
    "from collections import deque\n",
    "\n",
    "\n",
    "numbers = [4, 455, 6, 4, -1, 45, 6]\n",
    "direction =\"left\"\n",
    "\n",
    "\n",
    "def solution(numbers, direction):\n",
    "    numbers = deque(numbers)\n",
    "    if direction == \"right\" :\n",
    "        numbers.rotate(1)\n",
    "    elif direction == \"left\" :\n",
    "        numbers.rotate(-1)\n",
    "    answer = list(numbers)\n",
    "    return answer\n",
    "\n",
    "answer= solution(numbers, direction)\n",
    "\n",
    "print(answer)\n"
   ]
  },
  {
   "cell_type": "code",
   "execution_count": 13,
   "metadata": {},
   "outputs": [
    {
     "name": "stdout",
     "output_type": "stream",
     "text": [
      "4\n"
     ]
    }
   ],
   "source": [
    "# 머쓱이는 친구들과 369게임을 하고 있습니다. \n",
    "# 369게임은 1부터 숫자를 하나씩 대며 3, 6, 9가 들어가는 숫자는 숫자 대신 3, 6, 9의 개수만큼 박수를 치는 게임입니다. \n",
    "# 머쓱이가 말해야하는 숫자 order가 매개변수로 주어질 때, 머쓱이가 쳐야할 박수 횟수를 return 하도록 solution 함수를 완성해보세요.\n",
    "\n",
    "order = 3333\n",
    "\n",
    "\n",
    "def solution(order):\n",
    "    answer = 0\n",
    "    for i in str(order):\n",
    "        if i in ['3', '6', '9'] :\n",
    "            answer += 1\n",
    "    return answer\n",
    "\n",
    "answer= solution(order)\n",
    "\n",
    "print(answer)\n"
   ]
  },
  {
   "cell_type": "code",
   "execution_count": 14,
   "metadata": {},
   "outputs": [
    {
     "name": "stdout",
     "output_type": "stream",
     "text": [
      "[1, 2, 3, 4, 6, 8, 12, 24]\n"
     ]
    }
   ],
   "source": [
    "# 정수 n이 매개변수로 주어질 때, n의 약수를 오름차순으로 담은 배열을 return하도록 solution 함수를 완성해주세요.\n",
    "\n",
    "n = 24\n",
    "\n",
    "def solution(n):\n",
    "    answer = []\n",
    "    for i in range(1, n+1):\n",
    "        if n % i == 0:\n",
    "            answer.append(i)\n",
    "    \n",
    "    return answer\n",
    "\n",
    "answer= solution(n)\n",
    "print(answer)"
   ]
  },
  {
   "cell_type": "code",
   "execution_count": null,
   "metadata": {},
   "outputs": [],
   "source": []
  }
 ],
 "metadata": {
  "kernelspec": {
   "display_name": "Python 3",
   "language": "python",
   "name": "python3"
  },
  "language_info": {
   "codemirror_mode": {
    "name": "ipython",
    "version": 3
   },
   "file_extension": ".py",
   "mimetype": "text/x-python",
   "name": "python",
   "nbconvert_exporter": "python",
   "pygments_lexer": "ipython3",
   "version": "3.12.2"
  }
 },
 "nbformat": 4,
 "nbformat_minor": 2
}
