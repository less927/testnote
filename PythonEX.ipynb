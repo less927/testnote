{
 "cells": [
  {
   "cell_type": "code",
   "execution_count": null,
   "metadata": {},
   "outputs": [],
   "source": []
  },
  {
   "cell_type": "code",
   "execution_count": 9,
   "metadata": {},
   "outputs": [],
   "source": [
    "def solution(k, m, score):\n",
    "    answer = 5\n",
    "    \n",
    "    # 정렬(내림차순)\n",
    "    score.sort(reverse=True)\n",
    "    \n",
    "    \n",
    "    # m = 3\n",
    "    # [4, 1, 2, 2, 4, 4, 4, 4, 1, 2, 4, 2]\n",
    "    # score[i:i+m]\n",
    "    # score[0:0+3] = [4, 4, (4),\n",
    "    # score[3:3+3] = 4, 4, (4),\n",
    "    # score[6:6+3] = 2, 2, (2),\n",
    "    # score[9:9+3] = 2, 1, (1)]\n",
    "    # m 단위별로 잘라서\n",
    "    for i in range(0, len(score), m):\n",
    "        #마지막 위치값의 *m\n",
    "        # 최저 금액기준으로 금액을 측정후\n",
    "        # 누적하여 합\n",
    "        if i+m-1 < len(score):\n",
    "            answer += score[i+m-1] * m\n",
    "    \n",
    "    \n",
    "    return answer"
   ]
  },
  {
   "cell_type": "code",
   "execution_count": null,
   "metadata": {},
   "outputs": [],
   "source": []
  },
  {
   "cell_type": "code",
   "execution_count": null,
   "metadata": {},
   "outputs": [],
   "source": []
  },
  {
   "cell_type": "code",
   "execution_count": 13,
   "metadata": {},
   "outputs": [],
   "source": [
    "def solutiuon(book_time):\n",
    "    answer=0\n",
    "    def ttm(time):\n",
    "        hm = time.split(':') # 데이터를 : 기준으로 분리\n",
    "        h = int(hm[0]) #정수로 변경\n",
    "        m = int(hm[1])\n",
    "        \n",
    "        return h * 60 + m #총 분으로 return\n",
    "    rooms = []#각 방들의 예약시간 저장\n",
    "    \n",
    "   \n",
    "    #시간을 분단위로 변경\n",
    "    #start = i[0]\n",
    "    #end = i[1]\n",
    "    for start, end in book_time:\n",
    "        rooms.append([ttm(start),1]) #시작시간 표시 1\n",
    "        rooms.append([ttm(end)+10, -1]) #끝나느 시간을 +10분 적용\n",
    "    \n",
    "    #시작, 끝 표시\n",
    "    \n",
    "    #시간순서대로 정렬\n",
    "    rooms.sort()\n",
    "    \n",
    "    roomscnt = 0\n",
    "    \n",
    "    for time, io in rooms:\n",
    "        # if io == 1:\n",
    "        #     roomscnt += 1\n",
    "        # else:\n",
    "        #     roomscnt -= 1\n",
    "        roomscnt += io\n",
    "        answer = max(answer, roomscnt)\n",
    "        \n",
    "        \n",
    "    #예약된 순서대로 체크\n",
    "    \n",
    "    return answer\n",
    "    \n",
    "    #가장 방을 많이 사용한 순간을 저장"
   ]
  },
  {
   "cell_type": "code",
   "execution_count": 38,
   "metadata": {},
   "outputs": [
    {
     "name": "stdout",
     "output_type": "stream",
     "text": [
      "error\n"
     ]
    }
   ],
   "source": [
    "def solution(angle):\n",
    "    if angle < 90:\n",
    "        answer = 1\n",
    "    elif angle == 90:\n",
    "        answer = 2\n",
    "    elif angle < 180:\n",
    "        answer = 3    \n",
    "    elif angle <= 180 :\n",
    "        answer = 4\n",
    "    elif angle < 360 :\n",
    "        answer = \"over ex\"    \n",
    "    else:\n",
    "        answer = \"error\"\n",
    "    return answer\n",
    "\n",
    "# Test the function\n",
    "angle = 400\n",
    "print(solution(angle))"
   ]
  },
  {
   "cell_type": "code",
   "execution_count": 14,
   "metadata": {},
   "outputs": [
    {
     "name": "stdout",
     "output_type": "stream",
     "text": [
      "5\n"
     ]
    }
   ],
   "source": [
    "message = \"hello\"\n",
    "\n",
    "length = len(message)\n",
    "\n",
    "print(length)"
   ]
  },
  {
   "cell_type": "code",
   "execution_count": 23,
   "metadata": {},
   "outputs": [
    {
     "name": "stdout",
     "output_type": "stream",
     "text": [
      "2 3\n"
     ]
    }
   ],
   "source": [
    "# 정수가 담긴 리스트 num_list가 주어질 때, num_list의 원소 중 짝수와 홀수의 개수를 담은 배열을 return 하도록 solution 함수를 완성해보세요.\n",
    "# num_list\tresult\n",
    "# [1, 2, 3, 4, 5]\t[2, 3]\n",
    "\n",
    "num_list =[1,2,3,4,5]\n",
    "\n",
    "def solution(num_list):\n",
    "    a = 0\n",
    "    b = 0\n",
    "\n",
    "    for i in num_list :\n",
    "        if i % 2 == 0 :\n",
    "            a += 1\n",
    "        else :\n",
    "            b += 1          \n",
    "                \n",
    "    return a, b \n",
    "\n",
    "a, b =solution(num_list)\n",
    "\n",
    "print (a, b)\n",
    "\n"
   ]
  },
  {
   "cell_type": "code",
   "execution_count": 1,
   "metadata": {},
   "outputs": [],
   "source": [
    "# 문제 설명\n",
    "# 문자열 my_string이 매개변수로 주어집니다. \n",
    "# my_string을 거꾸로 뒤집은 문자열을 return하도록 solution 함수를 완성해주세요.\n",
    "\n",
    "def solution(my_string):\n",
    "    answer = my_string[::-1] \n",
    "    # [::] 슬라이싱\n",
    "    return answer\n"
   ]
  },
  {
   "cell_type": "code",
   "execution_count": 9,
   "metadata": {},
   "outputs": [
    {
     "name": "stdout",
     "output_type": "stream",
     "text": [
      "[1, 3, 5, 7, 9]\n"
     ]
    }
   ],
   "source": [
    "# 문제 설명\n",
    "# 정수 n이 매개변수로 주어질 때, n 이하의 홀수가 오름차순으로 담긴 배열을 return하도록 solution 함수를 완성해주세요.\n",
    "\n",
    "# 제한사항\n",
    "# 1 ≤ n ≤ 100\n",
    "# 입출력 예\n",
    "# n\tresult\n",
    "# 10\t[1, 3, 5, 7, 9]\n",
    "# 15\t[1, 3, 5, 7, 9, 11, 13, 15]\n",
    "# 입출력 예 설명\n",
    "# 입출력 #1\n",
    "\n",
    "# 10 이하의 홀수가 담긴 배열 [1, 3, 5, 7, 9]를 return합니다.\n",
    "# 입출력 #1\n",
    "\n",
    "# 15 이하의 홀수가 담긴 배열 [1, 3, 5, 7, 9, 11, 13, 15]를 return합니다.\n",
    "\n",
    "n = 10\n",
    "\n",
    "def solution(n):\n",
    "    answer = [] \n",
    "    for i in range (0,n+1) :\n",
    "        if i % 2 == 1 :\n",
    "            answer.append(i)  # 홀수일 경우 answer를 1 증가\n",
    "\n",
    "    return answer\n",
    "\n",
    "answer = solution(n)\n",
    "\n",
    "print(answer)\n"
   ]
  },
  {
   "cell_type": "code",
   "execution_count": 1,
   "metadata": {},
   "outputs": [
    {
     "name": "stdout",
     "output_type": "stream",
     "text": [
      "124000\n"
     ]
    }
   ],
   "source": [
    "# 머쓱이네 양꼬치 가게는 10인분을 먹으면 음료수 하나를 서비스로 줍니다. \n",
    "# 양꼬치는 1인분에 12,000원, 음료수는 2,000원입니다. \n",
    "# 정수 n과 k가 매개변수로 주어졌을 때, \n",
    "# 양꼬치 n인분과 음료수 k개를 먹었다면 총얼마를 지불해야 하는지 return 하도록 solution 함수를 완성해보세요.\n",
    "\n",
    "n = 10\n",
    "k = 3\n",
    "def solution(n, k):\n",
    "    lamb = 12000\n",
    "    bev = 2000\n",
    "    free_bev = n // 10\n",
    "    total_bev = k - free_bev\n",
    "\n",
    "\n",
    "    \n",
    "    answer = (lamb * n) + (bev * total_bev)\n",
    "    return answer\n",
    "\n",
    "answer = solution(n, k )\n",
    "\n",
    "print (answer)"
   ]
  },
  {
   "cell_type": "code",
   "execution_count": 13,
   "metadata": {},
   "outputs": [
    {
     "name": "stdout",
     "output_type": "stream",
     "text": [
      "1\n"
     ]
    }
   ],
   "source": [
    "# 문자열 str1, str2가 매개변수로 주어집니다. \n",
    "# str1 안에 str2가 있다면 1을 없다면 2를 return하도록 solution 함수를 완성해주세요.\n",
    "\n",
    "\n",
    "str1 = \"asdf\"\n",
    "str2 = \"qwer\"\n",
    "\n",
    "def solution(str1, str2):\n",
    "    return 1 if str2 in str1 else 2\n",
    "\n",
    "# solution 함수를 호출하고 결과를 출력\n",
    "result = solution(str1, str2)\n",
    "print(1)\n",
    "\n"
   ]
  },
  {
   "cell_type": "code",
   "execution_count": 2,
   "metadata": {},
   "outputs": [
    {
     "name": "stdout",
     "output_type": "stream",
     "text": [
      "3\n"
     ]
    }
   ],
   "source": [
    "# 머쓱이네 피자가게는 피자를 일곱 조각으로 잘라 줍니다. \n",
    "# 피자를 나눠먹을 사람의 수 n이 주어질 때, \n",
    "# 모든 사람이 피자를 한 조각 이상 먹기 위해 필요한 피자의 수를 return 하는 solution 함수를 완성해보세요.\n",
    "\n",
    "\n",
    "n= 15\n",
    "\n",
    "\n",
    "def solution(n):\n",
    "    answer = 0\n",
    "    if n % 7 == 0 :\n",
    "        answer = n / 7\n",
    "    else : answer = int(n / 7) + 1\n",
    "\n",
    "    return answer\n",
    "\n",
    "answer = solution(n)\n",
    "\n",
    "print(answer)"
   ]
  },
  {
   "cell_type": "code",
   "execution_count": 1,
   "metadata": {},
   "outputs": [
    {
     "name": "stdout",
     "output_type": "stream",
     "text": [
      "142500.0\n"
     ]
    }
   ],
   "source": [
    "# 머쓱이네 옷가게는 10만 원 이상 사면 5%, 30만 원 이상 사면 10%, 50만 원 이상 사면 20%를 할인해줍니다.\n",
    "# 구매한 옷의 가격 price가 주어질 때, 지불해야 할 금액을 return 하도록 solution 함수를 완성해보세요.\n",
    "\n",
    "price = 150000\n",
    "\n",
    "def solution(price):\n",
    "    if price >= 500000:\n",
    "        price = price * 0.8\n",
    "    elif price >= 300000:\n",
    "        price = price * 0.9\n",
    "    elif price >= 100000:\n",
    "        price = price * 0.95\n",
    "    else: price = int(price)\n",
    "    \n",
    "    return price\n",
    "\n",
    "price = solution(price)\n",
    "\n",
    "print (price)"
   ]
  },
  {
   "cell_type": "code",
   "execution_count": 20,
   "metadata": {},
   "outputs": [
    {
     "name": "stdout",
     "output_type": "stream",
     "text": [
      "2잔, 4000원\n"
     ]
    }
   ],
   "source": [
    "# 머쓱이는 추운 날에도 아이스 아메리카노만 마십니다. \n",
    "# 아이스 아메리카노는 한잔에 5,500원입니다. \n",
    "# 머쓱이가 가지고 있는 돈 money가 매개변수로 주어질 때, \n",
    "# 머쓱이가 최대로 마실 수 있는 아메리카노의 잔 수와 남는 돈을 순서대로 담은 배열을 return 하도록 solution 함수를 완성해보세요.\n",
    "\n",
    "money = 15000\n",
    "\n",
    "def solution(money):\n",
    "    cups = money // 5500\n",
    "    remain = money % 5500\n",
    "    answer = f\"{cups}잔, {remain}원\"\n",
    "    return answer\n",
    "\n",
    "answer = solution(money)\n",
    "\n",
    "\n",
    "print(answer)\n"
   ]
  },
  {
   "cell_type": "code",
   "execution_count": null,
   "metadata": {},
   "outputs": [],
   "source": []
  }
 ],
 "metadata": {
  "kernelspec": {
   "display_name": "Python 3",
   "language": "python",
   "name": "python3"
  },
  "language_info": {
   "codemirror_mode": {
    "name": "ipython",
    "version": 3
   },
   "file_extension": ".py",
   "mimetype": "text/x-python",
   "name": "python",
   "nbconvert_exporter": "python",
   "pygments_lexer": "ipython3",
   "version": "3.12.2"
  }
 },
 "nbformat": 4,
 "nbformat_minor": 2
}
